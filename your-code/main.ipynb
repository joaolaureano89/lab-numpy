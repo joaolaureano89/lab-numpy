{
 "cells": [
  {
   "cell_type": "markdown",
   "metadata": {},
   "source": [
    "# Intrduction to NumPy\n",
    "\n",
    "\n",
    "#### 1. Import NumPy under the name np."
   ]
  },
  {
   "cell_type": "code",
   "execution_count": 1,
   "metadata": {},
   "outputs": [],
   "source": [
    "# your code here\n",
    "import numpy as np\n",
    "import random"
   ]
  },
  {
   "cell_type": "markdown",
   "metadata": {},
   "source": [
    "#### 2. Print your NumPy version."
   ]
  },
  {
   "cell_type": "code",
   "execution_count": 2,
   "metadata": {},
   "outputs": [
    {
     "data": {
      "text/plain": [
       "'1.22.3'"
      ]
     },
     "execution_count": 2,
     "metadata": {},
     "output_type": "execute_result"
    }
   ],
   "source": [
    "# your code here\n",
    "np.version.version"
   ]
  },
  {
   "cell_type": "markdown",
   "metadata": {},
   "source": [
    "#### 3. Generate a 2x3x5 3-dimensional array with random values. Assign the array to variable *a*.\n",
    "**Challenge**: there are at least three easy ways that use numpy to generate random arrays. How many ways can you find?"
   ]
  },
  {
   "cell_type": "code",
   "execution_count": 3,
   "metadata": {},
   "outputs": [
    {
     "data": {
      "text/plain": [
       "array([[[0.23602085, 0.04494475, 0.53123357, 0.59774992, 0.11885405],\n",
       "        [0.1191895 , 0.58677956, 0.1182133 , 0.04517857, 0.54044946],\n",
       "        [0.38921018, 0.29118541, 0.97685141, 0.8002397 , 0.23107002]],\n",
       "\n",
       "       [[0.27938238, 0.29227256, 0.16808994, 0.08898697, 0.82938068],\n",
       "        [0.79486278, 0.17641645, 0.87105975, 0.62225751, 0.34767988],\n",
       "        [0.86951478, 0.75380681, 0.30688751, 0.96371675, 0.78420352]]])"
      ]
     },
     "execution_count": 3,
     "metadata": {},
     "output_type": "execute_result"
    }
   ],
   "source": [
    "# Method 1\n",
    "a1 = np.random.random((2,3,5))\n",
    "a1"
   ]
  },
  {
   "cell_type": "code",
   "execution_count": 4,
   "metadata": {},
   "outputs": [
    {
     "data": {
      "text/plain": [
       "array([[[38, 44, 34, 25,  0],\n",
       "        [59, 75, 50, 33, 99],\n",
       "        [18, 61, 43, 27, 21]],\n",
       "\n",
       "       [[13, 95, 41, 62, 17],\n",
       "        [85, 49, 89, 44, 31],\n",
       "        [69, 64, 44, 25, 62]]])"
      ]
     },
     "execution_count": 4,
     "metadata": {},
     "output_type": "execute_result"
    }
   ],
   "source": [
    "# Method 2\n",
    "a2 = np.random.randint(0, 100, size=(2, 3, 5))\n",
    "a2"
   ]
  },
  {
   "cell_type": "code",
   "execution_count": 5,
   "metadata": {},
   "outputs": [
    {
     "data": {
      "text/plain": [
       "array([[[-19.90947876,  13.2256764 ,   3.10192365,  -2.78223611,\n",
       "          24.84429155],\n",
       "        [ -4.52867232,  28.37294551, -49.99456384, -27.28935612,\n",
       "         -32.13621614],\n",
       "        [  2.48677739,   2.44617269,  28.44007768,  17.85526814,\n",
       "          29.79342275]],\n",
       "\n",
       "       [[  9.91216112,   4.94906936,   9.11095791,  17.15545556,\n",
       "          26.99514955],\n",
       "        [ 10.23357043,  11.65391199, -36.78216623,   5.66794895,\n",
       "          16.86894888],\n",
       "        [-16.98531616,  -6.84053548,  -3.27879455,   3.4177939 ,\n",
       "           0.60429241]]])"
      ]
     },
     "execution_count": 5,
     "metadata": {},
     "output_type": "execute_result"
    }
   ],
   "source": [
    "# Method 3\n",
    "a3 = np.random.normal(0,20, size=(2,3,5))\n",
    "a3"
   ]
  },
  {
   "cell_type": "markdown",
   "metadata": {},
   "source": [
    "#### 4. Print *a*.\n"
   ]
  },
  {
   "cell_type": "code",
   "execution_count": 6,
   "metadata": {},
   "outputs": [
    {
     "name": "stdout",
     "output_type": "stream",
     "text": [
      "[[[0.23602085 0.04494475 0.53123357 0.59774992 0.11885405]\n",
      "  [0.1191895  0.58677956 0.1182133  0.04517857 0.54044946]\n",
      "  [0.38921018 0.29118541 0.97685141 0.8002397  0.23107002]]\n",
      "\n",
      " [[0.27938238 0.29227256 0.16808994 0.08898697 0.82938068]\n",
      "  [0.79486278 0.17641645 0.87105975 0.62225751 0.34767988]\n",
      "  [0.86951478 0.75380681 0.30688751 0.96371675 0.78420352]]]\n"
     ]
    }
   ],
   "source": [
    "# your code here\n",
    "a = a1\n",
    "print(a)"
   ]
  },
  {
   "cell_type": "markdown",
   "metadata": {},
   "source": [
    "#### 5. Create a 5x2x3 3-dimensional array with all values equaling 1. Assign the array to variable *b*."
   ]
  },
  {
   "cell_type": "code",
   "execution_count": 7,
   "metadata": {},
   "outputs": [],
   "source": [
    "# your code here\n",
    "b = np.ones(shape=(5,2,3))"
   ]
  },
  {
   "cell_type": "markdown",
   "metadata": {},
   "source": [
    "#### 6. Print *b*.\n"
   ]
  },
  {
   "cell_type": "code",
   "execution_count": 8,
   "metadata": {},
   "outputs": [
    {
     "name": "stdout",
     "output_type": "stream",
     "text": [
      "[[[1. 1. 1.]\n",
      "  [1. 1. 1.]]\n",
      "\n",
      " [[1. 1. 1.]\n",
      "  [1. 1. 1.]]\n",
      "\n",
      " [[1. 1. 1.]\n",
      "  [1. 1. 1.]]\n",
      "\n",
      " [[1. 1. 1.]\n",
      "  [1. 1. 1.]]\n",
      "\n",
      " [[1. 1. 1.]\n",
      "  [1. 1. 1.]]]\n"
     ]
    }
   ],
   "source": [
    "# your code here\n",
    "print(b)"
   ]
  },
  {
   "cell_type": "markdown",
   "metadata": {},
   "source": [
    "#### 7. Do *a* and *b* have the same size? How do you prove that in Python code?"
   ]
  },
  {
   "cell_type": "code",
   "execution_count": 9,
   "metadata": {},
   "outputs": [
    {
     "data": {
      "text/plain": [
       "True"
      ]
     },
     "execution_count": 9,
     "metadata": {},
     "output_type": "execute_result"
    }
   ],
   "source": [
    "# your code here\n",
    "a.size == b.size"
   ]
  },
  {
   "cell_type": "markdown",
   "metadata": {},
   "source": [
    "#### 8. Are you able to add *a* and *b*? Why or why not?\n"
   ]
  },
  {
   "cell_type": "code",
   "execution_count": 10,
   "metadata": {},
   "outputs": [
    {
     "name": "stdout",
     "output_type": "stream",
     "text": [
      "(2, 3, 5)\n",
      "(5, 2, 3)\n"
     ]
    }
   ],
   "source": [
    "# your answer here\n",
    "#c = a + b\n",
    "# i can´t sum them because they dont have the same shape\n",
    "print(a.shape)\n",
    "print(b.shape)"
   ]
  },
  {
   "cell_type": "markdown",
   "metadata": {},
   "source": [
    "#### 9. Transpose *b* so that it has the same structure of *a* (i.e. become a 2x3x5 array). Assign the transposed array to variable *c*."
   ]
  },
  {
   "cell_type": "code",
   "execution_count": 11,
   "metadata": {},
   "outputs": [
    {
     "data": {
      "text/plain": [
       "(2, 3, 5)"
      ]
     },
     "execution_count": 11,
     "metadata": {},
     "output_type": "execute_result"
    }
   ],
   "source": [
    "# your code/answer here\n",
    "from pandas import array\n",
    "\n",
    "b = b.reshape((5,3,2))\n",
    "b.shape\n",
    "\n",
    "c = b.T\n",
    "c.shape\n",
    "\n"
   ]
  },
  {
   "cell_type": "markdown",
   "metadata": {},
   "source": [
    "#### 10. Try to add *a* and *c*. Now it should work. Assign the sum to variable *d*. But why does it work now?"
   ]
  },
  {
   "cell_type": "code",
   "execution_count": 12,
   "metadata": {},
   "outputs": [
    {
     "data": {
      "text/plain": [
       "array([[[1.23602085, 1.04494475, 1.53123357, 1.59774992, 1.11885405],\n",
       "        [1.1191895 , 1.58677956, 1.1182133 , 1.04517857, 1.54044946],\n",
       "        [1.38921018, 1.29118541, 1.97685141, 1.8002397 , 1.23107002]],\n",
       "\n",
       "       [[1.27938238, 1.29227256, 1.16808994, 1.08898697, 1.82938068],\n",
       "        [1.79486278, 1.17641645, 1.87105975, 1.62225751, 1.34767988],\n",
       "        [1.86951478, 1.75380681, 1.30688751, 1.96371675, 1.78420352]]])"
      ]
     },
     "execution_count": 12,
     "metadata": {},
     "output_type": "execute_result"
    }
   ],
   "source": [
    "# your code/answer here\n",
    "#now it works because \"a\" and \"c\" have the same shape (2,3,5)\n",
    "d = a + c\n",
    "d"
   ]
  },
  {
   "cell_type": "markdown",
   "metadata": {},
   "source": [
    "#### 11. Print *a* and *d*. Notice the difference and relation of the two array in terms of the values? Explain."
   ]
  },
  {
   "cell_type": "code",
   "execution_count": 13,
   "metadata": {},
   "outputs": [
    {
     "name": "stdout",
     "output_type": "stream",
     "text": [
      "[[[0.23602085 0.04494475 0.53123357 0.59774992 0.11885405]\n",
      "  [0.1191895  0.58677956 0.1182133  0.04517857 0.54044946]\n",
      "  [0.38921018 0.29118541 0.97685141 0.8002397  0.23107002]]\n",
      "\n",
      " [[0.27938238 0.29227256 0.16808994 0.08898697 0.82938068]\n",
      "  [0.79486278 0.17641645 0.87105975 0.62225751 0.34767988]\n",
      "  [0.86951478 0.75380681 0.30688751 0.96371675 0.78420352]]]\n",
      "[[[1.23602085 1.04494475 1.53123357 1.59774992 1.11885405]\n",
      "  [1.1191895  1.58677956 1.1182133  1.04517857 1.54044946]\n",
      "  [1.38921018 1.29118541 1.97685141 1.8002397  1.23107002]]\n",
      "\n",
      " [[1.27938238 1.29227256 1.16808994 1.08898697 1.82938068]\n",
      "  [1.79486278 1.17641645 1.87105975 1.62225751 1.34767988]\n",
      "  [1.86951478 1.75380681 1.30688751 1.96371675 1.78420352]]]\n"
     ]
    }
   ],
   "source": [
    "# your code/answer here\n",
    "print(a)\n",
    "print(d)\n",
    "\n",
    "# \"d\" is the sum of \"a\" and \"c\", and \"c's\" origin is in \"b\", which is a np.one array. the difference between \"a\" and \"d\" is precisely that unit (of \"ones\")"
   ]
  },
  {
   "cell_type": "markdown",
   "metadata": {},
   "source": [
    "#### 12. Multiply *a* and *c*. Assign the result to *e*."
   ]
  },
  {
   "cell_type": "code",
   "execution_count": 14,
   "metadata": {},
   "outputs": [
    {
     "data": {
      "text/plain": [
       "array([[[0.23602085, 0.04494475, 0.53123357, 0.59774992, 0.11885405],\n",
       "        [0.1191895 , 0.58677956, 0.1182133 , 0.04517857, 0.54044946],\n",
       "        [0.38921018, 0.29118541, 0.97685141, 0.8002397 , 0.23107002]],\n",
       "\n",
       "       [[0.27938238, 0.29227256, 0.16808994, 0.08898697, 0.82938068],\n",
       "        [0.79486278, 0.17641645, 0.87105975, 0.62225751, 0.34767988],\n",
       "        [0.86951478, 0.75380681, 0.30688751, 0.96371675, 0.78420352]]])"
      ]
     },
     "execution_count": 14,
     "metadata": {},
     "output_type": "execute_result"
    }
   ],
   "source": [
    "# your code here\n",
    "\n",
    "e = a * c\n",
    "e"
   ]
  },
  {
   "cell_type": "markdown",
   "metadata": {},
   "source": [
    "#### 13. Does *e* equal to *a*? Why or why not?\n"
   ]
  },
  {
   "cell_type": "code",
   "execution_count": 15,
   "metadata": {},
   "outputs": [
    {
     "data": {
      "text/plain": [
       "array([[[ True,  True,  True,  True,  True],\n",
       "        [ True,  True,  True,  True,  True],\n",
       "        [ True,  True,  True,  True,  True]],\n",
       "\n",
       "       [[ True,  True,  True,  True,  True],\n",
       "        [ True,  True,  True,  True,  True],\n",
       "        [ True,  True,  True,  True,  True]]])"
      ]
     },
     "execution_count": 15,
     "metadata": {},
     "output_type": "execute_result"
    }
   ],
   "source": [
    "# your code/answer here\n",
    "# once \"c\" is all composed by number 1, when multiplied by any variable, the final value is that variable. that's why e = a\n",
    "e == a"
   ]
  },
  {
   "cell_type": "markdown",
   "metadata": {},
   "source": [
    "#### 14. Identify the max, min, and mean values in *d*. Assign those values to variables *d_max*, *d_min* and *d_mean*."
   ]
  },
  {
   "cell_type": "code",
   "execution_count": 16,
   "metadata": {},
   "outputs": [
    {
     "name": "stdout",
     "output_type": "stream",
     "text": [
      "1.976851409252876\n",
      "1.044944753785126\n",
      "1.4591896171836536\n"
     ]
    }
   ],
   "source": [
    "# your code here\n",
    "d_max = np.max(d)\n",
    "print(d_max)\n",
    "d_min = np.min(d)\n",
    "print(d_min)\n",
    "d_mean = np.mean(d)\n",
    "print(d_mean)"
   ]
  },
  {
   "cell_type": "markdown",
   "metadata": {},
   "source": [
    "#### 15. Now we want to label the values in *d*. First create an empty array *f* with the same shape (i.e. 2x3x5) as *d* using `np.empty`.\n"
   ]
  },
  {
   "cell_type": "code",
   "execution_count": 17,
   "metadata": {},
   "outputs": [],
   "source": [
    "# your code here\n",
    "f = np.empty((2,3,5))\n",
    "fl = []\n",
    "\n"
   ]
  },
  {
   "cell_type": "markdown",
   "metadata": {},
   "source": [
    "#### 16. Populate the values in *f*. \n",
    "\n",
    "For each value in *d*, if it's larger than *d_min* but smaller than *d_mean*, assign 25 to the corresponding value in *f*. If a value in *d* is larger than *d_mean* but smaller than *d_max*, assign 75 to the corresponding value in *f*. If a value equals to *d_mean*, assign 50 to the corresponding value in *f*. Assign 0 to the corresponding value(s) in *f* for *d_min* in *d*. Assign 100 to the corresponding value(s) in *f* for *d_max* in *d*. In the end, f should have only the following values: 0, 25, 50, 75, and 100.\n",
    "\n",
    "**Note**: you don't have to use Numpy in this question."
   ]
  },
  {
   "cell_type": "code",
   "execution_count": 18,
   "metadata": {},
   "outputs": [],
   "source": [
    "# your code here\n",
    "\n",
    "my_list = [z for x in d for y in x for z in y]\n",
    "my_list\n",
    "for i in my_list:\n",
    "    if i > d_min and i < d_mean:\n",
    "        fl.append(25)\n",
    "    if i > d_mean and i < d_max:\n",
    "        fl.append(75)\n",
    "    if i == d_mean:\n",
    "        fl.append(50)\n",
    "    if i == d_min:\n",
    "        fl.append(0)\n",
    "    if i == d_max:\n",
    "        fl.append(100)\n",
    "    else:\n",
    "        continue\n",
    "\n"
   ]
  },
  {
   "cell_type": "code",
   "execution_count": 26,
   "metadata": {},
   "outputs": [
    {
     "data": {
      "text/plain": [
       "array([[[ 25,   0,  75,  75,  25],\n",
       "        [ 25,  75,  25,  25,  75],\n",
       "        [ 25,  25, 100,  75,  25]],\n",
       "\n",
       "       [[ 25,  25,  25,  25,  75],\n",
       "        [ 75,  25,  75,  75,  25],\n",
       "        [ 75,  75,  25,  75,  75]]])"
      ]
     },
     "execution_count": 26,
     "metadata": {},
     "output_type": "execute_result"
    }
   ],
   "source": [
    "fnp = np.asarray(fl)\n",
    "freshape = fnp.reshape((2,3,5))\n",
    "f = freshape\n",
    "f\n"
   ]
  },
  {
   "cell_type": "markdown",
   "metadata": {},
   "source": [
    "#### 17. Print *d* and *f*. Do you have your expected *f*?\n",
    "For instance, if your *d* is:\n",
    "```python\n",
    "[[[1.85836099, 1.67064465, 1.62576044, 1.40243961, 1.88454931],\n",
    "[1.75354326, 1.69403643, 1.36729252, 1.61415071, 1.12104981],\n",
    "[1.72201435, 1.1862918 , 1.87078449, 1.7726778 , 1.88180042]],\n",
    "[[1.44747908, 1.31673383, 1.02000951, 1.52218947, 1.97066381],\n",
    "[1.79129243, 1.74983003, 1.96028037, 1.85166831, 1.65450881],\n",
    "[1.18068344, 1.9587381 , 1.00656599, 1.93402165, 1.73514584]]]\n",
    "```\n",
    "Your *f* should be:\n",
    "```python\n",
    "[[[ 75.,  75.,  75.,  25.,  75.],\n",
    "[ 75.,  75.,  25.,  25.,  25.],\n",
    "[ 75.,  25.,  75.,  75.,  75.]],\n",
    "[[ 25.,  25.,  25.,  25., 100.],\n",
    "[ 75.,  75.,  75.,  75.,  75.],\n",
    "[ 25.,  75.,   0.,  75.,  75.]]]\n",
    "```"
   ]
  },
  {
   "cell_type": "code",
   "execution_count": 20,
   "metadata": {},
   "outputs": [],
   "source": [
    "# your code here"
   ]
  },
  {
   "cell_type": "markdown",
   "metadata": {},
   "source": [
    "#### 18. Bonus question: instead of using numbers (i.e. 0, 25, 50, 75, and 100), use string values  (\"A\", \"B\", \"C\", \"D\", and \"E\") to label the array elements. For the example above, the expected result is:\n",
    "\n",
    "```python\n",
    "[[[ 'D',  'D',  'D',  'B',  'D'],\n",
    "[ 'D',  'D',  'B',  'B',  'B'],\n",
    "[ 'D',  'B',  'D',  'D',  'D']],\n",
    "[[ 'B',  'B',  'B',  'B',  'E'],\n",
    "[ 'D',  'D',  'D',  'D',  'D'],\n",
    "[ 'B',  'D',   'A',  'D', 'D']]]\n",
    "```\n",
    "**Note**: you don't have to use Numpy in this question."
   ]
  },
  {
   "cell_type": "code",
   "execution_count": 21,
   "metadata": {},
   "outputs": [],
   "source": [
    "# your code here"
   ]
  }
 ],
 "metadata": {
  "kernelspec": {
   "display_name": "Python 3.9.13 ('ironhack')",
   "language": "python",
   "name": "python3"
  },
  "language_info": {
   "codemirror_mode": {
    "name": "ipython",
    "version": 3
   },
   "file_extension": ".py",
   "mimetype": "text/x-python",
   "name": "python",
   "nbconvert_exporter": "python",
   "pygments_lexer": "ipython3",
   "version": "3.9.13"
  },
  "vscode": {
   "interpreter": {
    "hash": "13431b83ec255a84f87b36c3fda10080d0a9ddc1e0462dd4b0a9c2fbf7790bb4"
   }
  }
 },
 "nbformat": 4,
 "nbformat_minor": 2
}
